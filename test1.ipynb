{
  "nbformat": 4,
  "nbformat_minor": 0,
  "metadata": {
    "colab": {
      "provenance": [],
      "authorship_tag": "ABX9TyPOy93xR9/+ro16Wb9jnkvP",
      "include_colab_link": true
    },
    "kernelspec": {
      "name": "python3",
      "display_name": "Python 3"
    },
    "language_info": {
      "name": "python"
    }
  },
  "cells": [
    {
      "cell_type": "markdown",
      "metadata": {
        "id": "view-in-github",
        "colab_type": "text"
      },
      "source": [
        "<a href=\"https://colab.research.google.com/github/Meshal6299/test-gColab/blob/main/test1.ipynb\" target=\"_parent\"><img src=\"https://colab.research.google.com/assets/colab-badge.svg\" alt=\"Open In Colab\"/></a>"
      ]
    },
    {
      "cell_type": "code",
      "execution_count": null,
      "metadata": {
        "colab": {
          "base_uri": "https://localhost:8080/"
        },
        "id": "QjDxUM8hrqOl",
        "outputId": "693bb4df-7df6-4af0-98a8-5d6e60935ec6"
      },
      "outputs": [
        {
          "output_type": "stream",
          "name": "stdout",
          "text": [
            "this is a test for github x google colab repo\n"
          ]
        }
      ],
      "source": [
        "print(\"this is a test for github x google colab repo\")"
      ]
    },
    {
      "cell_type": "code",
      "source": [
        "url = 'https://raw.githubusercontent.com/Meshal6299/test-gColab/main/m2.jpg'"
      ],
      "metadata": {
        "id": "nmG-wqg0yf6L"
      },
      "execution_count": null,
      "outputs": []
    },
    {
      "cell_type": "code",
      "metadata": {
        "colab": {
          "base_uri": "https://localhost:8080/",
          "height": 471
        },
        "id": "c3f75e25",
        "outputId": "287951ec-bb2b-4280-c4b1-d378daa95431"
      },
      "source": [
        "from IPython.display import Image\n",
        "\n",
        "display(Image(url=url))"
      ],
      "execution_count": null,
      "outputs": [
        {
          "output_type": "display_data",
          "data": {
            "text/html": [
              "<img src=\"https://raw.githubusercontent.com/Meshal6299/test-gColab/main/m2.jpg\"/>"
            ],
            "text/plain": [
              "<IPython.core.display.Image object>"
            ]
          },
          "metadata": {}
        }
      ]
    },
    {
      "cell_type": "code",
      "source": [
        "print(\"this is a test for github commit\")"
      ],
      "metadata": {
        "id": "i9GA6OgD4Rfa"
      },
      "execution_count": null,
      "outputs": []
    }
  ]
}